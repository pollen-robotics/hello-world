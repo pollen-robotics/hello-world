{
 "cells": [
  {
   "cell_type": "code",
   "execution_count": null,
   "id": "9a7f8770",
   "metadata": {},
   "outputs": [],
   "source": [
    "from behavior import StretchNeck\n",
    "import asyncio\n",
    "import time"
   ]
  },
  {
   "cell_type": "code",
   "execution_count": null,
   "id": "1111d9a3",
   "metadata": {},
   "outputs": [],
   "source": [
    "from reachy_sdk import ReachySDK\n",
    "from reachy_sdk.trajectory import goto_async, goto\n",
    "from reachy_sdk.trajectory.interpolation import InterpolationMode"
   ]
  },
  {
   "cell_type": "code",
   "execution_count": null,
   "id": "0b14e6d7",
   "metadata": {},
   "outputs": [],
   "source": [
    "import behavior as bh\n",
    "import numpy as np"
   ]
  },
  {
   "cell_type": "code",
   "execution_count": null,
   "id": "575ebcfa",
   "metadata": {},
   "outputs": [],
   "source": [
    "reachy = ReachySDK(host='localhost')"
   ]
  },
  {
   "cell_type": "code",
   "execution_count": null,
   "id": "848fec25",
   "metadata": {},
   "outputs": [],
   "source": [
    "reachy.turn_on('reachy')\n",
    "\n",
    "brt = bh.Whistle(name = 'brt', reachy = reachy)\n",
    "\n",
    "await brt.start()"
   ]
  },
  {
   "cell_type": "code",
   "execution_count": null,
   "id": "f97b16b1",
   "metadata": {},
   "outputs": [],
   "source": [
    "await reachy.head.look_at_async(\n",
    "            0.5,\n",
    "            0.08,\n",
    "            -0.4,\n",
    "            duration=1.0,\n",
    "            interpolation_mode=InterpolationMode.MINIMUM_JERK,\n",
    "            starting_positions = {\n",
    "                reachy.head.neck_roll: reachy.head.neck_roll.goal_position,\n",
    "                reachy.head.neck_pitch: reachy.head.neck_pitch.goal_position,\n",
    "                reachy.head.neck_yaw: reachy.head.neck_yaw.goal_position,\n",
    "                }\n",
    "            )"
   ]
  },
  {
   "cell_type": "code",
   "execution_count": null,
   "id": "e6890c10",
   "metadata": {},
   "outputs": [],
   "source": [
    "print(reachy.head.neck_pitch.goal_position)\n",
    "print(reachy.head.neck_roll.goal_position)\n",
    "print(reachy.head.neck_yaw.goal_position)"
   ]
  },
  {
   "cell_type": "code",
   "execution_count": null,
   "id": "a95a991e",
   "metadata": {},
   "outputs": [],
   "source": [
    "print(reachy.head.neck_pitch.present_position)\n",
    "print(reachy.head.neck_roll.present_position)\n",
    "print(reachy.head.neck_yaw.present_position)"
   ]
  },
  {
   "cell_type": "code",
   "execution_count": null,
   "id": "2696bfef",
   "metadata": {},
   "outputs": [],
   "source": [
    "goto({\n",
    "    reachy.head.neck_pitch: 38,\n",
    "    reachy.head.neck_roll: -1.7,\n",
    "    reachy.head.neck_yaw: -4.8\n",
    "    },\n",
    "    duration=1.0,\n",
    "    starting_positions = {\n",
    "        reachy.head.neck_pitch: reachy.head.neck_pitch.goal_position,\n",
    "        reachy.head.neck_roll: reachy.head.neck_roll.goal_position,\n",
    "        reachy.head.neck_yaw: reachy.head.neck_yaw.goal_position,\n",
    "    },\n",
    "    interpolation_mode=InterpolationMode.MINIMUM_JERK,\n",
    ")"
   ]
  },
  {
   "cell_type": "code",
   "execution_count": null,
   "id": "9ef05180",
   "metadata": {},
   "outputs": [],
   "source": [
    "reachy.turn_on('reachy')"
   ]
  },
  {
   "cell_type": "code",
   "execution_count": null,
   "id": "8619f71a",
   "metadata": {},
   "outputs": [],
   "source": [
    "reachy.turn_off_smoothly('reachy')"
   ]
  },
  {
   "cell_type": "code",
   "execution_count": null,
   "id": "b475a34a",
   "metadata": {},
   "outputs": [],
   "source": [
    "await reachy.head.look_at_async(\n",
    "            0.5,\n",
    "            0.0,\n",
    "            0.0,\n",
    "            duration=1.0,\n",
    "            interpolation_mode=InterpolationMode.MINIMUM_JERK,\n",
    "            starting_positions = {\n",
    "                reachy.head.neck_pitch: reachy.head.neck_pitch.goal_position,\n",
    "                reachy.head.neck_roll: reachy.head.neck_roll.goal_position,\n",
    "                reachy.head.neck_yaw: reachy.head.neck_yaw.goal_position,\n",
    "                }\n",
    "            )"
   ]
  },
  {
   "cell_type": "code",
   "execution_count": null,
   "id": "e19103bf",
   "metadata": {},
   "outputs": [],
   "source": [
    "asleep = Asleep(name = 'brt', reachy = reachy)\n",
    "\n",
    "await asleep.start()"
   ]
  },
  {
   "cell_type": "code",
   "execution_count": null,
   "id": "d00b2455",
   "metadata": {},
   "outputs": [],
   "source": [
    "await asleep.stop()"
   ]
  },
  {
   "cell_type": "code",
   "execution_count": null,
   "id": "69ea791c",
   "metadata": {},
   "outputs": [],
   "source": [
    "reachy.turn_off_smoothly('head')"
   ]
  },
  {
   "cell_type": "code",
   "execution_count": null,
   "id": "8aa99dca",
   "metadata": {},
   "outputs": [],
   "source": [
    "reachy.tur"
   ]
  },
  {
   "cell_type": "code",
   "execution_count": null,
   "id": "81fa8494",
   "metadata": {},
   "outputs": [],
   "source": [
    "# 'sweat_head' : SweatHead(name='sweat_head', reachy=self.reachy, sub_behavior=True), -> OK\n",
    "\n",
    "# 'look_hand': LookHand(name='look_hand', reachy=self.reachy, sub_behavior=True), ->OK\n",
    "\n",
    "# 'lonely': Lonely(name='lonely', reachy=self.reachy, sub_behavior=True), -> OK\n",
    "\n",
    "# 'scratch' : Scratch(name='scratch', reachy=self.reachy, sub_behavior=True), ->OK\n",
    "\n",
    "# 'tshirt' : Tshirt(name='tshirt', reachy=self.reachy, sub_behavior=True), ->OK\n",
    "\n",
    "# 'sneeze' : Sneeze(name='sneeze', reachy=self.reachy, sub_behavior=True), -> OK\n",
    "\n",
    "# 'whistle' : Whistle(name='whistle', reachy=self.reachy, sub_behavior=True), -- arranger \n"
   ]
  },
  {
   "cell_type": "code",
   "execution_count": null,
   "id": "a5cc3ef5",
   "metadata": {},
   "outputs": [],
   "source": [
    "class Asleep(bh.Behavior):\n",
    "    def __init__(self, name: str, reachy, sub_behavior: bool = False) -> None:\n",
    "        super().__init__(name, reachy=reachy, sub_behavior=sub_behavior)\n",
    "        # self.left_pos = [20.68, -5.21, -6.29, -96.48, -6.6, -16.92, -6.01, 7.84]\n",
    "        self.left_pos = [0, 0, 0, 0, 0, 0, 0]\n",
    "        self.right_pos = [0, 0, 0, 0, 0, 0, 0]\n",
    "        # self.right_pos = [7.94, -2.35, 27.47, -87.52, 6.6, -10.24, -2.2, -0.07]\n",
    "        self.joint_names = list(reachy.l_arm.joints.values()) + list(reachy.r_arm.joints.values()) \n",
    "\n",
    "    async def run(self):\n",
    "        reachy.turn_on('reachy')\n",
    "\n",
    "        goto = goto_async({joint_name: pos for (joint_name, pos) in zip(self.joint_names, self.left_pos+self.right_pos)}, duration=1.5)\n",
    "        goto_antennas = goto_async({reachy.head.l_antenna : 70, reachy.head.r_antenna : -70}, duration=1.0)\n",
    "        look_at = reachy.head.look_at_async(x=0.5, y=0, z=-0.3, duration=1.0)\n",
    "        await asyncio.gather(goto, look_at, goto_antennas)\n",
    "        reachy.turn_off_smoothly('reachy')\n",
    "\n",
    "        reachy.head.l_antenna.compliant = False\n",
    "        reachy.head.r_antenna.compliant = False\n",
    "\n",
    "        tic = time.time()\n",
    "        \n",
    "        while time.time() - tic < 10.0:\n",
    "            t = time.time() - tic\n",
    "            \n",
    "            pos = 20 * np.sin(2 * np.pi * 0.3 * t)\n",
    "            reachy.head.l_antenna.goal_position = 70 + pos\n",
    "            reachy.head.r_antenna.goal_position = -70 - pos\n",
    "            \n",
    "            await asyncio.sleep(0.01)"
   ]
  },
  {
   "cell_type": "code",
   "execution_count": null,
   "id": "fa280bb7",
   "metadata": {},
   "outputs": [],
   "source": [
    "class Idle(bh.Behavior):\n",
    "    def __init__(self, name: str, reachy, sub_behavior: bool = False) -> None:\n",
    "        super().__init__(name, reachy=reachy, sub_behavior=sub_behavior)\n",
    "        self.reachy = reachy\n",
    "        self.asleep_behavior = Asleep(name='asleep', reachy=self.reachy, sub_behavior=True)\n",
    "        self.behaviors = {\n",
    "            'look_hand': bh.LookHand(name='look_hand', reachy=self.reachy, sub_behavior=True),\n",
    "            'lonely': bh.Lonely(name='lonely', reachy=self.reachy, sub_behavior=True),\n",
    "            'scratch' : bh.Scratch(name='scratch', reachy=self.reachy, sub_behavior=True),\n",
    "            'tshirt' : bh.Tshirt(name='tshirt', reachy=self.reachy, sub_behavior=True),\n",
    "            'sweat_head' : bh.SweatHead(name='sweat_head', reachy=self.reachy, sub_behavior=True),\n",
    "            'sneeze' : bh.Sneeze(name='sneeze', reachy=self.reachy, sub_behavior=True),\n",
    "            'whistle' : bh.Whistle(name='whistle', reachy=self.reachy, sub_behavior=True),\n",
    "        }\n",
    "    \n",
    "    async def run(self):\n",
    "        while True:\n",
    "            asleep = await self.asleep_behavior.start()\n",
    "            await asleep\n",
    "            reachy.turn_on('reachy')\n",
    "            await self.behaviors[np.random.choice(list(self.behaviors.keys()))]._run()\n",
    "            \n",
    "    async def teardown(self):\n",
    "        # await goto_async({j: 0 for j in reachy.joints.values()}, duration=3)\n",
    "        reachy.turn_off_smoothly('reachy')"
   ]
  },
  {
   "cell_type": "code",
   "execution_count": null,
   "id": "0100ab05",
   "metadata": {},
   "outputs": [],
   "source": [
    "idle = Idle(name='idle', reachy=reachy)"
   ]
  },
  {
   "cell_type": "code",
   "execution_count": null,
   "id": "84759450",
   "metadata": {},
   "outputs": [],
   "source": [
    "idle_behav = await idle.start()"
   ]
  },
  {
   "cell_type": "code",
   "execution_count": null,
   "id": "c93ce206",
   "metadata": {},
   "outputs": [],
   "source": [
    "reachy.turn_off_smoothly('reachy')"
   ]
  },
  {
   "cell_type": "code",
   "execution_count": null,
   "id": "f0e52f83",
   "metadata": {},
   "outputs": [],
   "source": [
    "await idle.stop()"
   ]
  },
  {
   "cell_type": "code",
   "execution_count": null,
   "id": "84acab82",
   "metadata": {},
   "outputs": [],
   "source": [
    "# 'sweat_head' : SweatHead(name='sweat_head', reachy=self.reachy, sub_behavior=True),\n",
    "\n",
    "# 'look_hand': LookHand(name='look_hand', reachy=self.reachy, sub_behavior=True),\n",
    "\n",
    "# 'lonely': Lonely(name='lonely', reachy=self.reachy, sub_behavior=True),\n",
    "\n",
    "# 'scratch' : Scratch(name='scratch', reachy=self.reachy, sub_behavior=True),\n",
    "\n",
    "# 'tshirt' : Tshirt(name='tshirt', reachy=self.reachy, sub_behavior=True),\n",
    "\n",
    "# 'sneeze' : Sneeze(name='sneeze', reachy=self.reachy, sub_behavior=True),\n",
    "\n",
    "# 'whistle' : Whistle(name='whistle', reachy=self.reachy, sub_behavior=True), -- arranger \n"
   ]
  }
 ],
 "metadata": {
  "kernelspec": {
   "display_name": "Python 3",
   "language": "python",
   "name": "python3"
  },
  "language_info": {
   "codemirror_mode": {
    "name": "ipython",
    "version": 3
   },
   "file_extension": ".py",
   "mimetype": "text/x-python",
   "name": "python",
   "nbconvert_exporter": "python",
   "pygments_lexer": "ipython3",
   "version": "3.8.10"
  }
 },
 "nbformat": 4,
 "nbformat_minor": 5
}
